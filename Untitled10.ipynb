{
 "cells": [
  {
   "cell_type": "code",
   "execution_count": 1,
   "id": "c51a3a84",
   "metadata": {},
   "outputs": [
    {
     "name": "stdout",
     "output_type": "stream",
     "text": [
      "enter num : 9\n",
      "\n",
      "*\n",
      "**\n",
      "***\n",
      "****\n",
      "*****\n",
      "******\n",
      "*******\n",
      "********\n",
      "*********\n",
      "********\n",
      "*******\n",
      "******\n",
      "*****\n",
      "****\n",
      "***\n",
      "**\n",
      "*\n"
     ]
    }
   ],
   "source": [
    "s=(int(input(\"enter num : \")))\n",
    "\n",
    "for i in range(s):\n",
    "    for j in range(i):\n",
    "        print(\"*\",end=\"\")\n",
    "    print(\"\")\n",
    "for i in range(s,0,-1):\n",
    "    for j in range(i):\n",
    "        print(\"*\",end=\"\")\n",
    "    print(\"\")\n",
    "    "
   ]
  },
  {
   "cell_type": "code",
   "execution_count": 6,
   "id": "1148e9b8",
   "metadata": {},
   "outputs": [
    {
     "name": "stdout",
     "output_type": "stream",
     "text": [
      "A_B_C_D_E_F_G_H_I_J_K_L_M_N_O_P_Q_R_S_T_U_V_W_X_Y_Z_"
     ]
    }
   ],
   "source": [
    "for i in range(65,91,1):\n",
    "    print(chr(i),end=\"_\")"
   ]
  },
  {
   "cell_type": "code",
   "execution_count": 7,
   "id": "3cecebe3",
   "metadata": {},
   "outputs": [
    {
     "name": "stdout",
     "output_type": "stream",
     "text": [
      "1\n",
      "2\n",
      "3\n",
      "5\n",
      "8\n",
      "13\n",
      "21\n",
      "34\n"
     ]
    }
   ],
   "source": [
    "n1=0\n",
    "n2=1\n",
    "for i in range(2,10):\n",
    "    sum=n1+n2\n",
    "    print(sum)\n",
    "    n1=n2\n",
    "    n2=sum"
   ]
  },
  {
   "cell_type": "code",
   "execution_count": 10,
   "id": "1fb4545a",
   "metadata": {},
   "outputs": [
    {
     "name": "stdout",
     "output_type": "stream",
     "text": [
      "enter the num :5\n",
      "5 = 120\n"
     ]
    }
   ],
   "source": [
    "factorial=1\n",
    "num=int(input(\"enter the num :\"))\n",
    "\n",
    "if num<0:\n",
    "    print(\"negative value \")\n",
    "elif num==0:\n",
    "    print(\"0 factorial 1\")\n",
    "else:\n",
    "    for i in range(1,num+1):\n",
    "        factorial=factorial*i\n",
    "print(num,\"=\",factorial)\n"
   ]
  },
  {
   "cell_type": "code",
   "execution_count": 15,
   "id": "e1662c7c",
   "metadata": {},
   "outputs": [
    {
     "name": "stdout",
     "output_type": "stream",
     "text": [
      "enter the str :mom\n",
      "pallindrome\n"
     ]
    }
   ],
   "source": [
    "str=(input(\"enter the str :\"))\n",
    "\n",
    "s=(str[::-1])\n",
    "\n",
    "if (s==str):\n",
    "    print(\"pallindrome\")\n",
    "else:\n",
    "    print(\"not pallindrome\")"
   ]
  },
  {
   "cell_type": "code",
   "execution_count": 19,
   "id": "ec3cbbc6",
   "metadata": {},
   "outputs": [
    {
     "name": "stdout",
     "output_type": "stream",
     "text": [
      "enter string:drags\n",
      "enter string:agdsr\n",
      "anagram\n"
     ]
    }
   ],
   "source": [
    "str1=(input(\"enter string:\"))\n",
    "str2=(input(\"enter string:\"))\n",
    "\n",
    "s=sorted(str1.lower())\n",
    "p=sorted(str2.lower())\n",
    "\n",
    "if (s==p):\n",
    "    print(\"anagram\")\n",
    "else:\n",
    "    print(\"not anagram\")\n",
    "    \n"
   ]
  },
  {
   "cell_type": "code",
   "execution_count": 21,
   "id": "3a2ef62c",
   "metadata": {},
   "outputs": [
    {
     "name": "stdout",
     "output_type": "stream",
     "text": [
      "['cat', 'banana', 'apple']\n"
     ]
    }
   ],
   "source": [
    "list=[\"apple\",\"banana\",\"cat\"]\n",
    "list1=(list[::-1])\n",
    "print(list1)"
   ]
  },
  {
   "cell_type": "code",
   "execution_count": 22,
   "id": "fc712cc1",
   "metadata": {},
   "outputs": [
    {
     "name": "stdout",
     "output_type": "stream",
     "text": [
      "enter str : mobile\n",
      "elibom\n"
     ]
    }
   ],
   "source": [
    "str=(input(\"enter str : \"))\n",
    "\n",
    "revstr=(str[::-1])\n",
    "\n",
    "print(revstr)"
   ]
  },
  {
   "cell_type": "code",
   "execution_count": 26,
   "id": "7d51c7ca",
   "metadata": {},
   "outputs": [
    {
     "name": "stdout",
     "output_type": "stream",
     "text": [
      "enter str :maybe this time get a job\n",
      "['maybe', 'this', 'time', 'get', 'a', 'job']\n",
      "['job', 'a', 'get', 'time', 'this', 'maybe']\n",
      "job a get time this maybe\n"
     ]
    }
   ],
   "source": [
    "str=(input(\"enter str :\"))\n",
    "words=str.split(\" \")\n",
    "print(words)\n",
    "\n",
    "words=words[-1::-1]\n",
    "print(words)\n",
    "\n",
    "outstr=\" \".join(words)\n",
    "print(outstr)"
   ]
  },
  {
   "cell_type": "code",
   "execution_count": 27,
   "id": "eefaaf95",
   "metadata": {},
   "outputs": [
    {
     "name": "stdout",
     "output_type": "stream",
     "text": [
      "enter the str : you will win\n",
      "['you', 'will', 'win']\n",
      "['win', 'will', 'you']\n",
      "win will you\n"
     ]
    }
   ],
   "source": [
    "str=(input(\"enter the str : \"))\n",
    "\n",
    "words=str.split(\" \")\n",
    "print(words)\n",
    "\n",
    "words=words[-1::-1]\n",
    "print(words)\n",
    "\n",
    "outstr=\" \".join(words)\n",
    "print(outstr)"
   ]
  },
  {
   "cell_type": "code",
   "execution_count": 28,
   "id": "9f935c7f",
   "metadata": {},
   "outputs": [
    {
     "name": "stdout",
     "output_type": "stream",
     "text": [
      "niw lliw uoy\n"
     ]
    }
   ],
   "source": [
    "str=\"you will win\"\n",
    "str1=(str[::-1])\n",
    "print(str1)"
   ]
  },
  {
   "cell_type": "code",
   "execution_count": 31,
   "id": "a7ec3a31",
   "metadata": {},
   "outputs": [
    {
     "name": "stdout",
     "output_type": "stream",
     "text": [
      "15120\n",
      "15120\n"
     ]
    }
   ],
   "source": [
    "# multiply the list\n",
    "import numpy as np\n",
    "list=[5,7,6,8,9]\n",
    "result=np.prod(list)\n",
    "print(result)\n",
    "\n",
    "result=1\n",
    "for i in list:\n",
    "    result=result*i\n",
    "print(result)"
   ]
  },
  {
   "cell_type": "code",
   "execution_count": 32,
   "id": "778d4801",
   "metadata": {},
   "outputs": [
    {
     "name": "stdout",
     "output_type": "stream",
     "text": [
      "   September 2023\n",
      "Mo Tu We Th Fr Sa Su\n",
      "             1  2  3\n",
      " 4  5  6  7  8  9 10\n",
      "11 12 13 14 15 16 17\n",
      "18 19 20 21 22 23 24\n",
      "25 26 27 28 29 30\n",
      "\n"
     ]
    }
   ],
   "source": [
    "import calendar\n",
    "year=2023\n",
    "month=9\n",
    "new=calendar.month(year,month)\n",
    "print(new)"
   ]
  },
  {
   "cell_type": "code",
   "execution_count": 33,
   "id": "58d52975",
   "metadata": {},
   "outputs": [
    {
     "name": "stdout",
     "output_type": "stream",
     "text": [
      "2023-08-06\n"
     ]
    }
   ],
   "source": [
    "import datetime as dt\n",
    "\n",
    "cur_date=dt.date.today()\n",
    "print(cur_date)"
   ]
  },
  {
   "cell_type": "code",
   "execution_count": 38,
   "id": "56a07e79",
   "metadata": {},
   "outputs": [
    {
     "name": "stdout",
     "output_type": "stream",
     "text": [
      "2023-08-06 11:53:28.106160\n"
     ]
    },
    {
     "ename": "TypeError",
     "evalue": "'int' object is not callable",
     "output_type": "error",
     "traceback": [
      "\u001b[1;31m---------------------------------------------------------------------------\u001b[0m",
      "\u001b[1;31mTypeError\u001b[0m                                 Traceback (most recent call last)",
      "Cell \u001b[1;32mIn[38], line 6\u001b[0m\n\u001b[0;32m      3\u001b[0m time\u001b[38;5;241m=\u001b[39mdt\u001b[38;5;241m.\u001b[39mdatetime\u001b[38;5;241m.\u001b[39mnow()\n\u001b[0;32m      4\u001b[0m \u001b[38;5;28mprint\u001b[39m(time)\n\u001b[1;32m----> 6\u001b[0m \u001b[38;5;28mprint\u001b[39m(\u001b[38;5;124m\"\u001b[39m\u001b[38;5;124mhour    : \u001b[39m\u001b[38;5;124m\"\u001b[39m,time\u001b[38;5;241m.\u001b[39mhour())\n\u001b[0;32m      7\u001b[0m \u001b[38;5;28mprint\u001b[39m(\u001b[38;5;124m\"\u001b[39m\u001b[38;5;124mminutes : \u001b[39m\u001b[38;5;124m\"\u001b[39m,time\u001b[38;5;241m.\u001b[39mminutes())\n\u001b[0;32m      8\u001b[0m \u001b[38;5;28mprint\u001b[39m(\u001b[38;5;124m\"\u001b[39m\u001b[38;5;124mseconds : \u001b[39m\u001b[38;5;124m\"\u001b[39m,time\u001b[38;5;241m.\u001b[39mseconds())\n",
      "\u001b[1;31mTypeError\u001b[0m: 'int' object is not callable"
     ]
    }
   ],
   "source": [
    "import datetime as dt\n",
    "\n",
    "time=dt.datetime.now()\n",
    "print(time)\n",
    "\n",
    "print(\"hour    : \",time.hour())\n",
    "print(\"minutes : \",time.minutes())\n",
    "print(\"seconds : \",time.seconds())\n"
   ]
  },
  {
   "cell_type": "code",
   "execution_count": 42,
   "id": "c4e6b766",
   "metadata": {},
   "outputs": [
    {
     "name": "stdout",
     "output_type": "stream",
     "text": [
      "2001-09-08 05:59:00\n",
      "year :  2001-09-08\n",
      "time :  05:59:00\n"
     ]
    }
   ],
   "source": [
    "import datetime as dt\n",
    "\n",
    "new=dt.datetime(2001,9,8,5,59)\n",
    "print(new)\n",
    "\n",
    "print(\"year : \",new.date())\n",
    "print(\"time : \",new.time())\n",
    "#print(\"month : \",new.month)\n",
    "#print(\"date : \",new.date)\n",
    "\n",
    "#print(\"hour    : \",new.hour())\n",
    "#print(\"minutes : \",new.minutes())\n",
    "#print(\"seconds : \",new.seconds())\n"
   ]
  },
  {
   "cell_type": "code",
   "execution_count": null,
   "id": "5e53f73a",
   "metadata": {},
   "outputs": [],
   "source": []
  }
 ],
 "metadata": {
  "kernelspec": {
   "display_name": "Python 3 (ipykernel)",
   "language": "python",
   "name": "python3"
  },
  "language_info": {
   "codemirror_mode": {
    "name": "ipython",
    "version": 3
   },
   "file_extension": ".py",
   "mimetype": "text/x-python",
   "name": "python",
   "nbconvert_exporter": "python",
   "pygments_lexer": "ipython3",
   "version": "3.11.3"
  }
 },
 "nbformat": 4,
 "nbformat_minor": 5
}
